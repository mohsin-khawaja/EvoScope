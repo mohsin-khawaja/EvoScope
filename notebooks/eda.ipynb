{
  "cells": [
    {
      "cell_type": "raw",
      "metadata": {
        "vscode": {
          "languageId": "raw"
        }
      },
      "source": [
        "# Exploratory Data Analysis - RL-LSTM Trading Agent\n",
        "\n",
        "This notebook explores the combined dataset with stock prices, crypto prices, and news sentiment.\n"
      ]
    },
    {
      "cell_type": "code",
      "execution_count": null,
      "metadata": {},
      "outputs": [],
      "source": [
        "import pandas as pd\n",
        "import matplotlib.pyplot as plt\n",
        "import numpy as np\n",
        "from src.features.build_features import build_dataset\n",
        "\n",
        "# Set up plotting\n",
        "plt.style.use('default')\n",
        "plt.rcParams['figure.figsize'] = (12, 8)\n"
      ]
    },
    {
      "cell_type": "raw",
      "metadata": {
        "vscode": {
          "languageId": "raw"
        }
      },
      "source": [
        "## Load Dataset\n"
      ]
    },
    {
      "cell_type": "code",
      "execution_count": null,
      "metadata": {},
      "outputs": [],
      "source": [
        "# Load the combined dataset\n",
        "df = build_dataset()\n",
        "print(f\"Dataset shape: {df.shape}\")\n",
        "print(f\"Date range: {df.index.min()} to {df.index.max()}\")\n",
        "\n",
        "# Display first few rows\n",
        "df.head()\n"
      ]
    },
    {
      "cell_type": "code",
      "execution_count": null,
      "metadata": {},
      "outputs": [],
      "source": [
        "# Data info and statistics\n",
        "df.info()\n"
      ]
    },
    {
      "cell_type": "code",
      "execution_count": null,
      "metadata": {},
      "outputs": [],
      "source": [
        "# Plot price series and sentiment\n",
        "fig, (ax1, ax2, ax3) = plt.subplots(3, 1, figsize=(12, 10))\n",
        "\n",
        "# AAPL Close Price\n",
        "ax1.plot(df.index, df['AAPL_Close'], label='AAPL Close', color='blue')\n",
        "ax1.set_title('Apple (AAPL) Stock Price')\n",
        "ax1.set_ylabel('Price ($)')\n",
        "ax1.legend()\n",
        "ax1.grid(True, alpha=0.3)\n",
        "\n",
        "# BTC Close Price  \n",
        "ax2.plot(df.index, df['BTC_Close'], label='BTC Close', color='orange')\n",
        "ax2.set_title('Bitcoin (BTC) Price')\n",
        "ax2.set_ylabel('Price ($)')\n",
        "ax2.legend()\n",
        "ax2.grid(True, alpha=0.3)\n",
        "\n",
        "# News Sentiment\n",
        "ax3.plot(df.index, df['sentiment'], label='News Sentiment', color='green')\n",
        "ax3.axhline(y=0, color='red', linestyle='--', alpha=0.5)\n",
        "ax3.set_title('News Sentiment Score')\n",
        "ax3.set_ylabel('Sentiment')\n",
        "ax3.set_xlabel('Date')\n",
        "ax3.legend()\n",
        "ax3.grid(True, alpha=0.3)\n",
        "\n",
        "plt.tight_layout()\n",
        "plt.show()\n"
      ]
    }
  ],
  "metadata": {
    "language_info": {
      "name": "python"
    }
  },
  "nbformat": 4,
  "nbformat_minor": 2
}
